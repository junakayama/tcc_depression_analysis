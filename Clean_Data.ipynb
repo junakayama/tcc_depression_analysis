{
 "cells": [
  {
   "cell_type": "code",
   "execution_count": null,
   "metadata": {},
   "outputs": [],
   "source": [
    "import pandas as pd\n",
    "import numpy as np\n",
    "from sklearn.feature_extraction.text import TfidfVectorizer\n",
    "from textblob import TextBlob\n",
    "import nltk\n",
    "from nltk.corpus import stopwords\n",
    "from nltk.stem import RSLPStemmer\n",
    "import re \n",
    "import copy\n",
    "from sklearn import svm"
   ]
  },
  {
   "cell_type": "code",
   "execution_count": null,
   "metadata": {},
   "outputs": [],
   "source": [
    "depression= pd.read_csv('depression_tweets.csv')\n",
    "non_depression = pd.read_csv('non_depression_tweets.csv')"
   ]
  },
  {
   "cell_type": "code",
   "execution_count": null,
   "metadata": {},
   "outputs": [],
   "source": [
    "depression['depression'] = True\n",
    "non_depression['depression'] = False\n",
    "\n",
    "df_tweets_depression = (\n",
    "    depression\n",
    "    .append(non_depression)\n",
    ")"
   ]
  },
  {
   "cell_type": "code",
   "execution_count": null,
   "metadata": {},
   "outputs": [],
   "source": [
    "df_tweets_depression.head()"
   ]
  },
  {
   "cell_type": "code",
   "execution_count": null,
   "metadata": {},
   "outputs": [],
   "source": [
    "df_tweets_depression[~df_tweets_depression.isnull()].drop(['language', 'user_screen_name'], axis=1).sample(5)"
   ]
  },
  {
   "cell_type": "markdown",
   "metadata": {},
   "source": [
    "## Remoção de mentions e RTs"
   ]
  },
  {
   "cell_type": "code",
   "execution_count": null,
   "metadata": {},
   "outputs": [],
   "source": [
    "regex_rt = r'RT @([\\w]+):'\n",
    "regex_mention = r'@([\\w]+)'\n",
    "is_rt = df_tweets_depression.text.str.contains(regex_rt, regex=True, na=False)\n",
    "is_mention = df_tweets_depression.text.str.contains(regex_mention, regex=True, na=False) & ~df_tweets_depression.text.str.contains(regex_rt, regex=True, na=False)\n",
    "rts = df_tweets_depression.text.str.replace(regex_rt, '')\n",
    "mentions = rts.str.replace(regex_mention, '')\n",
    "df_tweets_depression['text'] = mentions\n",
    "df_tweets_depression['is_rt'] = is_rt\n",
    "df_tweets_depression['is_mention'] = is_mention"
   ]
  },
  {
   "cell_type": "code",
   "execution_count": null,
   "metadata": {},
   "outputs": [],
   "source": [
    "len(df_tweets_depression[df_tweets_depression.is_mention])"
   ]
  },
  {
   "cell_type": "code",
   "execution_count": null,
   "metadata": {},
   "outputs": [],
   "source": [
    "len(df_tweets_depression[df_tweets_depression.is_rt])"
   ]
  },
  {
   "cell_type": "code",
   "execution_count": null,
   "metadata": {},
   "outputs": [],
   "source": [
    "df_tweets_depression.head()"
   ]
  },
  {
   "cell_type": "markdown",
   "metadata": {},
   "source": [
    "## Remoção de links e \\n"
   ]
  },
  {
   "cell_type": "code",
   "execution_count": null,
   "metadata": {},
   "outputs": [],
   "source": [
    "regex_link = r'https://t.co/([\\w]+)\\Z'\n",
    "regex_n = r'\\n'\n",
    "links = df_tweets_depression.text.str.replace(regex_link, '')\n",
    "has_link = df_tweets_depression.text.str.contains(regex_link, regex=True, na=False)\n",
    "df_tweets_depression['has_link'] = has_link\n",
    "df_tweets_depression['text'] = links.str.replace(regex_n, ' ')"
   ]
  },
  {
   "cell_type": "code",
   "execution_count": null,
   "metadata": {},
   "outputs": [],
   "source": [
    "len(df_tweets_depression[df_tweets_depression.has_link])"
   ]
  },
  {
   "cell_type": "markdown",
   "metadata": {},
   "source": [
    "## Remoção de tweets em outras línguas\n",
    "### O ideal seria traduzir os em inglês"
   ]
  },
  {
   "cell_type": "code",
   "execution_count": null,
   "metadata": {},
   "outputs": [],
   "source": [
    "len(df_tweets_depression)"
   ]
  },
  {
   "cell_type": "code",
   "execution_count": null,
   "metadata": {},
   "outputs": [],
   "source": [
    "df_tweets_depression.language.unique()"
   ]
  },
  {
   "cell_type": "code",
   "execution_count": null,
   "metadata": {},
   "outputs": [],
   "source": [
    "# df_tweets = df_tweets[(df_tweets.language == 'pt')]\n",
    "# len(df_tweets)"
   ]
  },
  {
   "cell_type": "markdown",
   "metadata": {},
   "source": [
    "## Letra minúscula"
   ]
  },
  {
   "cell_type": "code",
   "execution_count": null,
   "metadata": {},
   "outputs": [],
   "source": [
    "df_tweets_depression.dtypes"
   ]
  },
  {
   "cell_type": "code",
   "execution_count": null,
   "metadata": {},
   "outputs": [],
   "source": [
    "df_tweets_depression['text'] = (\n",
    "    df_tweets_depression['text']\n",
    "    .apply(lambda x: ' '.join(item.lower() for item in str(x).split()))\n",
    ")"
   ]
  },
  {
   "cell_type": "markdown",
   "metadata": {},
   "source": [
    "## Remover pontuações e caractéres especiais"
   ]
  },
  {
   "cell_type": "code",
   "execution_count": null,
   "metadata": {},
   "outputs": [],
   "source": [
    "regex_special = r'[^a-zA-Záéóãõç]+'\n",
    "has_special_ch = df_tweets_depression.text.str.contains(regex_special, regex=True, na=False)\n",
    "df_tweets_depression['has_special_ch'] = has_special_ch\n",
    "df_tweets_depression['text'] = df_tweets_depression['text'].apply(lambda x: ' '.join(\n",
    "    re.sub(regex_special, '', item) for item in x.split()))"
   ]
  },
  {
   "cell_type": "markdown",
   "metadata": {},
   "source": [
    "## Remover stopwords"
   ]
  },
  {
   "cell_type": "code",
   "execution_count": null,
   "metadata": {},
   "outputs": [],
   "source": [
    "stop_words = stopwords.words('portuguese')\n",
    "stop_words.extend(('pra', 'pras', 'pro', 'pros', 'q', '-', 'é', 'tá', 'ta', 'vai', 'to'))\n",
    "df_tweets_depression['original_text'] = df_tweets_depression['text']\n",
    "df_tweets_depression['text'] = df_tweets_depression['text'].apply(lambda x: ' '.join(\n",
    "    item for item in x.split() if item.lower() not in stop_words))"
   ]
  },
  {
   "cell_type": "code",
   "execution_count": null,
   "metadata": {},
   "outputs": [],
   "source": [
    "df_tweets_depression['has_stopwords'] = df_tweets_depression.original_text != df_tweets_depression.text"
   ]
  },
  {
   "cell_type": "code",
   "execution_count": null,
   "metadata": {},
   "outputs": [],
   "source": [
    "len(df_tweets_depression[df_tweets_depression.has_stopwords])"
   ]
  },
  {
   "cell_type": "markdown",
   "metadata": {},
   "source": [
    "## Remover palavras muito frequentes"
   ]
  },
  {
   "cell_type": "code",
   "execution_count": null,
   "metadata": {},
   "outputs": [],
   "source": [
    "# freq = pd.Series(' '.join(df_tweets_depression['text']).split()).value_counts()\n",
    "# # less_freq = list(freq[freq < 3].index)\n",
    "# more_freq = list(freq[freq > 8].index)\n",
    "# df_tweets['text'] = df_tweets['text'].apply(lambda x: ' '.join(x for x in x.split() if x not in more_freq))"
   ]
  },
  {
   "cell_type": "markdown",
   "metadata": {},
   "source": [
    "## Remover tweets sem texto"
   ]
  },
  {
   "cell_type": "code",
   "execution_count": null,
   "metadata": {},
   "outputs": [],
   "source": [
    "len(df_tweets_depression[df_tweets_depression.text == ''])"
   ]
  },
  {
   "cell_type": "code",
   "execution_count": null,
   "metadata": {},
   "outputs": [],
   "source": [
    "# df_tweets = df_tweets.dropna()\n",
    "df_tweets_depression = df_tweets_depression[df_tweets_depression.text != '']"
   ]
  },
  {
   "cell_type": "code",
   "execution_count": null,
   "metadata": {},
   "outputs": [],
   "source": [
    "df_tweets_depression.head()"
   ]
  },
  {
   "cell_type": "code",
   "execution_count": null,
   "metadata": {},
   "outputs": [],
   "source": [
    "df_tweets_depression[~df_tweets_depression.depression].head()"
   ]
  },
  {
   "cell_type": "markdown",
   "metadata": {},
   "source": [
    "## Remover nulos"
   ]
  },
  {
   "cell_type": "code",
   "execution_count": null,
   "metadata": {},
   "outputs": [],
   "source": [
    "len(df_tweets_depression)"
   ]
  },
  {
   "cell_type": "code",
   "execution_count": null,
   "metadata": {},
   "outputs": [],
   "source": [
    "len(df_tweets_depression.dropna(subset=['text', 'user_screen_name', 'depression']))"
   ]
  },
  {
   "cell_type": "code",
   "execution_count": null,
   "metadata": {},
   "outputs": [],
   "source": [
    "df_tweets_depression = df_tweets_depression.dropna(subset=['text', 'user_screen_name', 'depression'])"
   ]
  },
  {
   "cell_type": "code",
   "execution_count": null,
   "metadata": {},
   "outputs": [],
   "source": [
    "df_tweets_depression.head()"
   ]
  },
  {
   "cell_type": "code",
   "execution_count": null,
   "metadata": {},
   "outputs": [],
   "source": [
    "len(df_tweets_depression)"
   ]
  },
  {
   "cell_type": "code",
   "execution_count": null,
   "metadata": {},
   "outputs": [],
   "source": [
    "# df_tweets_depression.to_csv('clean_depression_tweets.csv', index=False)"
   ]
  }
 ],
 "metadata": {
  "kernelspec": {
   "display_name": "Python 3",
   "language": "python",
   "name": "python3"
  },
  "language_info": {
   "codemirror_mode": {
    "name": "ipython",
    "version": 3
   },
   "file_extension": ".py",
   "mimetype": "text/x-python",
   "name": "python",
   "nbconvert_exporter": "python",
   "pygments_lexer": "ipython3",
   "version": "3.6.5"
  }
 },
 "nbformat": 4,
 "nbformat_minor": 2
}
