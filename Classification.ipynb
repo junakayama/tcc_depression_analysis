{
 "cells": [
  {
   "cell_type": "code",
   "execution_count": null,
   "metadata": {},
   "outputs": [],
   "source": [
    "import pandas as pd\n",
    "import numpy as np\n",
    "from sklearn import svm\n",
    "from sklearn.neighbors import KNeighborsClassifier\n",
    "from sklearn import metrics\n",
    "from sklearn.model_selection import train_test_split\n",
    "from sklearn import preprocessing\n",
    "from sklearn.preprocessing import MinMaxScaler\n",
    "import seaborn as sns\n",
    "from sklearn.feature_selection import SelectKBest\n",
    "from sklearn.feature_selection import chi2\n",
    "from sklearn.feature_selection import RFE\n",
    "import matplotlib.pyplot as plot\n",
    "from sklearn.pipeline import Pipeline\n",
    "from sklearn.preprocessing import StandardScaler\n",
    "from sklearn.model_selection import cross_validate\n",
    "from sklearn.model_selection import cross_val_predict\n",
    "from sklearn.ensemble import RandomForestClassifier\n",
    "import statistics\n",
    "from sklearn.model_selection import GridSearchCV\n",
    "%matplotlib inline"
   ]
  },
  {
   "cell_type": "code",
   "execution_count": null,
   "metadata": {},
   "outputs": [],
   "source": [
    "users = df_tweets_depression = pd.read_csv('df_users_metrics.csv')"
   ]
  },
  {
   "cell_type": "code",
   "execution_count": null,
   "metadata": {},
   "outputs": [],
   "source": [
    "len(users)"
   ]
  },
  {
   "cell_type": "code",
   "execution_count": null,
   "metadata": {},
   "outputs": [],
   "source": [
    "len(users[users.depression])"
   ]
  },
  {
   "cell_type": "code",
   "execution_count": null,
   "metadata": {},
   "outputs": [],
   "source": [
    "len(users[~users.depression])"
   ]
  },
  {
   "cell_type": "code",
   "execution_count": null,
   "metadata": {},
   "outputs": [],
   "source": [
    "df_tweets_depression.columns"
   ]
  },
  {
   "cell_type": "markdown",
   "metadata": {},
   "source": [
    "## 1 - Todas as features puras com 0,33 de teste"
   ]
  },
  {
   "cell_type": "code",
   "execution_count": null,
   "metadata": {},
   "outputs": [],
   "source": [
    "y = users.depression.values\n",
    "X = users.drop(['depression', 'screen_name','created_at',\n",
    "                'id', 'location', 'name'], axis=1).values"
   ]
  },
  {
   "cell_type": "code",
   "execution_count": null,
   "metadata": {},
   "outputs": [],
   "source": [
    "X_train, X_test, y_train, y_test = train_test_split(X, y, test_size=0.33, random_state=42)"
   ]
  },
  {
   "cell_type": "code",
   "execution_count": null,
   "metadata": {},
   "outputs": [],
   "source": [
    "len(X_test)"
   ]
  },
  {
   "cell_type": "code",
   "execution_count": null,
   "metadata": {},
   "outputs": [],
   "source": [
    "users.drop(['depression', 'screen_name','created_at',\n",
    "                'id', 'location', 'name'], axis=1).columns"
   ]
  },
  {
   "cell_type": "markdown",
   "metadata": {},
   "source": [
    "### Random Forest"
   ]
  },
  {
   "cell_type": "code",
   "execution_count": null,
   "metadata": {},
   "outputs": [],
   "source": [
    "rf_clf = RandomForestClassifier(random_state=42)\n",
    "rf_clf.fit(X_train,y_train)\n",
    "y_pred = rf_clf.predict(X_test)\n",
    "print('acurácia: ' + str(metrics.accuracy_score(y_test, y_pred)))\n",
    "print('precisão: ' + str(metrics.precision_score(y_test, y_pred)))\n",
    "print('recall: ' + str(metrics.recall_score(y_test, y_pred)))\n",
    "print('f1-score: ' + str(metrics.f1_score(y_test, y_pred)))"
   ]
  },
  {
   "cell_type": "code",
   "execution_count": null,
   "metadata": {},
   "outputs": [],
   "source": [
    "cm = metrics.confusion_matrix(y_test, y_pred)\n",
    "ax = plot.subplot()\n",
    "sns.heatmap(cm, annot=True, ax=ax)\n",
    "ax.set_xlabel('Predicted labels')\n",
    "ax.set_ylabel('True labels')\n",
    "ax.xaxis.set_ticklabels(['com depressão', 'sem depressão'])\n",
    "ax.yaxis.set_ticklabels(['com depressão', 'sem depressão'])"
   ]
  },
  {
   "cell_type": "markdown",
   "metadata": {},
   "source": [
    "### SVM - SVC (linear)"
   ]
  },
  {
   "cell_type": "code",
   "execution_count": null,
   "metadata": {},
   "outputs": [],
   "source": [
    "svc_clf = svm.SVC(kernel='linear', C = 1.0, random_state=42)\n",
    "svc_clf.fit(X_train, y_train)\n",
    "y_pred = svc_clf.predict(X_test)\n",
    "print('acurácia: ' + str(metrics.accuracy_score(y_test, y_pred)))\n",
    "print('precisão: ' + str(metrics.precision_score(y_test, y_pred)))\n",
    "print('recall: ' + str(metrics.recall_score(y_test, y_pred)))\n",
    "print('f1-score: ' + str(metrics.f1_score(y_test, y_pred)))"
   ]
  },
  {
   "cell_type": "code",
   "execution_count": null,
   "metadata": {},
   "outputs": [],
   "source": [
    "cm = metrics.confusion_matrix(y_test, y_pred)\n",
    "ax = plot.subplot()\n",
    "sns.heatmap(cm, annot=True, ax=ax)\n",
    "ax.set_xlabel('Predicted labels')\n",
    "ax.set_ylabel('True labels')\n",
    "ax.xaxis.set_ticklabels(['com depressão', 'sem depressão'])\n",
    "ax.yaxis.set_ticklabels(['com depressão', 'sem depressão'])"
   ]
  },
  {
   "cell_type": "markdown",
   "metadata": {},
   "source": [
    "### KNN"
   ]
  },
  {
   "cell_type": "code",
   "execution_count": null,
   "metadata": {},
   "outputs": [],
   "source": [
    "knn_clf = KNeighborsClassifier(n_neighbors=5)\n",
    "knn_clf.fit(X_train, y_train)\n",
    "y_pred = knn_clf.predict(X_test)\n",
    "print('acurácia: ' + str(metrics.accuracy_score(y_test, y_pred)))\n",
    "print('precisão: ' + str(metrics.precision_score(y_test, y_pred)))\n",
    "print('recall: ' + str(metrics.recall_score(y_test, y_pred)))\n",
    "print('f1-score: ' + str(metrics.f1_score(y_test, y_pred)))"
   ]
  },
  {
   "cell_type": "code",
   "execution_count": null,
   "metadata": {},
   "outputs": [],
   "source": [
    "cm = metrics.confusion_matrix(y_test, y_pred)\n",
    "ax = plot.subplot()\n",
    "sns.heatmap(cm, annot=True, ax=ax)\n",
    "ax.set_xlabel('Predicted labels')\n",
    "ax.set_ylabel('True labels')\n",
    "ax.xaxis.set_ticklabels(['com depressão', 'sem depressão'])\n",
    "ax.yaxis.set_ticklabels(['com depressão', 'sem depressão'])"
   ]
  },
  {
   "cell_type": "markdown",
   "metadata": {},
   "source": [
    "## 2 - StandardScaler, 0,33 de teste e GridSearch"
   ]
  },
  {
   "cell_type": "markdown",
   "metadata": {},
   "source": [
    "### Random Forest"
   ]
  },
  {
   "cell_type": "code",
   "execution_count": null,
   "metadata": {},
   "outputs": [],
   "source": [
    "steps = [('scaler', StandardScaler()), ('RandomForest', RandomForestClassifier(criterion='gini', max_depth=5, max_features=1, n_estimators=13, random_state=42))]\n",
    "pipeline = Pipeline(steps)\n",
    "rf_clf = RandomForestClassifier(random_state=42)\n",
    "rf_clf.fit(X_train,y_train)\n",
    "y_pred = rf_clf.predict(X_test)\n",
    "print('acurácia: ' + str(metrics.accuracy_score(y_test, y_pred)))\n",
    "print('precisão: ' + str(metrics.precision_score(y_test, y_pred)))\n",
    "print('recall: ' + str(metrics.recall_score(y_test, y_pred)))\n",
    "print('f1-score: ' + str(metrics.f1_score(y_test, y_pred)))"
   ]
  },
  {
   "cell_type": "code",
   "execution_count": null,
   "metadata": {},
   "outputs": [],
   "source": [
    "cm = metrics.confusion_matrix(y_test, y_pred)\n",
    "ax = plot.subplot()\n",
    "sns.heatmap(cm, annot=True, ax=ax)\n",
    "ax.set_xlabel('Predicted labels')\n",
    "ax.set_ylabel('True labels')\n",
    "ax.xaxis.set_ticklabels(['com depressão', 'sem depressão'])\n",
    "ax.yaxis.set_ticklabels(['com depressão', 'sem depressão'])"
   ]
  },
  {
   "cell_type": "markdown",
   "metadata": {},
   "source": [
    "### SVM - SVC (linear)"
   ]
  },
  {
   "cell_type": "code",
   "execution_count": null,
   "metadata": {},
   "outputs": [],
   "source": [
    "steps = [('scaler', StandardScaler()), ('SVM', svm.SVC(kernel='linear', C = 1.0, random_state=42))]\n",
    "svc_clf = Pipeline(steps)\n",
    "svc_clf.fit(X_train,y_train)\n",
    "y_pred = svc_clf.predict(X_test)\n",
    "print('acurácia: ' + str(metrics.accuracy_score(y_test, y_pred)))\n",
    "print('precisão: ' + str(metrics.precision_score(y_test, y_pred)))\n",
    "print('recall: ' + str(metrics.recall_score(y_test, y_pred)))\n",
    "print('f1-score: ' + str(metrics.f1_score(y_test, y_pred)))"
   ]
  },
  {
   "cell_type": "code",
   "execution_count": null,
   "metadata": {},
   "outputs": [],
   "source": [
    "cm = metrics.confusion_matrix(y_test, y_pred)\n",
    "ax = plot.subplot()\n",
    "sns.heatmap(cm, annot=True, ax=ax)\n",
    "ax.set_xlabel('Predicted labels')\n",
    "ax.set_ylabel('True labels')\n",
    "ax.xaxis.set_ticklabels(['com depressão', 'sem depressão'])\n",
    "ax.yaxis.set_ticklabels(['com depressão', 'sem depressão'])"
   ]
  },
  {
   "cell_type": "markdown",
   "metadata": {},
   "source": [
    "### KNN"
   ]
  },
  {
   "cell_type": "code",
   "execution_count": null,
   "metadata": {},
   "outputs": [],
   "source": [
    "steps = [('scaler', StandardScaler()), ('KNN', KNeighborsClassifier(n_neighbors=3, algorithm='ball_tree', weights='distance'))]\n",
    "knn_clf = Pipeline(steps)\n",
    "knn_clf.fit(X_train, y_train)\n",
    "y_pred = knn_clf.predict(X_test)\n",
    "print('acurácia: ' + str(metrics.accuracy_score(y_test, y_pred)))\n",
    "print('precisão: ' + str(metrics.precision_score(y_test, y_pred)))\n",
    "print('recall: ' + str(metrics.recall_score(y_test, y_pred)))\n",
    "print('f1-score: ' + str(metrics.f1_score(y_test, y_pred)))"
   ]
  },
  {
   "cell_type": "code",
   "execution_count": null,
   "metadata": {},
   "outputs": [],
   "source": [
    "cm = metrics.confusion_matrix(y_test, y_pred)\n",
    "ax = plot.subplot()\n",
    "sns.heatmap(cm, annot=True, ax=ax)\n",
    "ax.set_xlabel('Predicted labels')\n",
    "ax.set_ylabel('True labels')\n",
    "ax.xaxis.set_ticklabels(['com depressão', 'sem depressão'])\n",
    "ax.yaxis.set_ticklabels(['com depressão', 'sem depressão'])"
   ]
  },
  {
   "cell_type": "markdown",
   "metadata": {},
   "source": [
    "## 3 - Standard Scaler + Cross Validation"
   ]
  },
  {
   "cell_type": "code",
   "execution_count": null,
   "metadata": {},
   "outputs": [],
   "source": [
    "y = users.depression.values\n",
    "X = users.drop(['depression', 'screen_name','created_at',\n",
    "                'id', 'location', 'name'], axis=1).values"
   ]
  },
  {
   "cell_type": "markdown",
   "metadata": {},
   "source": [
    "### SVC"
   ]
  },
  {
   "cell_type": "code",
   "execution_count": null,
   "metadata": {},
   "outputs": [],
   "source": [
    "steps = [('scaler', StandardScaler()), ('SVM', svm.SVC(kernel='linear', C = 1.0, random_state=42))]\n",
    "pipeline = Pipeline(steps)\n",
    "cv_results = cross_validate(\n",
    "    pipeline, X, y, cv=10, return_train_score=True,\n",
    "    scoring=['accuracy', 'f1', 'precision', 'recall', 'roc_auc']\n",
    ")\n",
    "print('acurácia - média: ' + str(cv_results['test_accuracy'].mean()))\n",
    "print('acurácia - desvio padrão:: ' + str(statistics.stdev(cv_results['test_accuracy'])))\n",
    "print('')\n",
    "print('precisão - média: ' + str(cv_results['train_precision'].mean()))\n",
    "print('precisão - desvio padrão:: ' + str(statistics.stdev(cv_results['test_precision'])))\n",
    "print('')\n",
    "print('recall - média: ' + str(cv_results['train_recall'].mean()))\n",
    "print('recall - desvio padrão:: ' + str(statistics.stdev(cv_results['test_recall'])))\n",
    "print('')\n",
    "print('f1-score - média: ' + str(cv_results['train_f1'].mean()))\n",
    "print('f1-score - desvio padrão:: ' + str(statistics.stdev(cv_results['test_f1'])))\n",
    "print('')\n",
    "print('roc_auc - média: ' + str(cv_results['train_roc_auc'].mean()))\n",
    "print('roc_auc - desvio padrão:: ' + str(statistics.stdev(cv_results['test_roc_auc'])))"
   ]
  },
  {
   "cell_type": "markdown",
   "metadata": {},
   "source": [
    "### KNN"
   ]
  },
  {
   "cell_type": "code",
   "execution_count": null,
   "metadata": {},
   "outputs": [],
   "source": [
    "steps = [('scaler', StandardScaler()), ('KNN', KNeighborsClassifier(n_neighbors=5))]\n",
    "pipeline = Pipeline(steps)\n",
    "cv_results = cross_validate(\n",
    "    pipeline, X, y, cv=5, return_train_score=True,\n",
    "    scoring=['accuracy', 'f1', 'precision', 'recall', 'roc_auc']\n",
    ")\n",
    "print('acurácia - média: ' + str(cv_results['test_accuracy'].mean()))\n",
    "print('acurácia - desvio padrão:: ' + str(statistics.stdev(cv_results['test_accuracy'])))\n",
    "print('')\n",
    "print('precisão - média: ' + str(cv_results['train_precision'].mean()))\n",
    "print('precisão - desvio padrão:: ' + str(statistics.stdev(cv_results['test_precision'])))\n",
    "print('')\n",
    "print('recall - média: ' + str(cv_results['train_recall'].mean()))\n",
    "print('recall - desvio padrão:: ' + str(statistics.stdev(cv_results['test_recall'])))\n",
    "print('')\n",
    "print('f1-score - média: ' + str(cv_results['train_f1'].mean()))\n",
    "print('f1-score - desvio padrão:: ' + str(statistics.stdev(cv_results['test_f1'])))\n",
    "print('')\n",
    "print('roc_auc - média: ' + str(cv_results['train_roc_auc'].mean()))\n",
    "print('roc_auc - desvio padrão:: ' + str(statistics.stdev(cv_results['test_roc_auc'])))"
   ]
  },
  {
   "cell_type": "markdown",
   "metadata": {},
   "source": [
    "### Random Forest"
   ]
  },
  {
   "cell_type": "code",
   "execution_count": null,
   "metadata": {},
   "outputs": [],
   "source": [
    "steps = [('scaler', StandardScaler()), ('RF', RandomForestClassifier(random_state=42))]\n",
    "pipeline = Pipeline(steps)\n",
    "cv_results = cross_validate(\n",
    "    pipeline, X, y, cv=5, return_train_score=True,\n",
    "    scoring=['accuracy', 'f1', 'precision', 'recall', 'roc_auc']\n",
    ")\n",
    "print('acurácia - média: ' + str(cv_results['test_accuracy'].mean()))\n",
    "print('acurácia - desvio padrão:: ' + str(statistics.stdev(cv_results['test_accuracy'])))\n",
    "print('')\n",
    "print('precisão - média: ' + str(cv_results['train_precision'].mean()))\n",
    "print('precisão - desvio padrão:: ' + str(statistics.stdev(cv_results['test_precision'])))\n",
    "print('')\n",
    "print('recall - média: ' + str(cv_results['train_recall'].mean()))\n",
    "print('recall - desvio padrão:: ' + str(statistics.stdev(cv_results['test_recall'])))\n",
    "print('')\n",
    "print('f1-score - média: ' + str(cv_results['train_f1'].mean()))\n",
    "print('f1-score - desvio padrão:: ' + str(statistics.stdev(cv_results['test_f1'])))\n",
    "print('')\n",
    "print('roc_auc - média: ' + str(cv_results['train_roc_auc'].mean()))\n",
    "print('roc_auc - desvio padrão:: ' + str(statistics.stdev(cv_results['test_roc_auc'])))"
   ]
  },
  {
   "cell_type": "markdown",
   "metadata": {},
   "source": [
    "## GridSearchCV"
   ]
  },
  {
   "cell_type": "markdown",
   "metadata": {},
   "source": [
    "### SVC"
   ]
  },
  {
   "cell_type": "code",
   "execution_count": null,
   "metadata": {},
   "outputs": [],
   "source": [
    "np.arange(0, 1.5, 0.1)"
   ]
  },
  {
   "cell_type": "code",
   "execution_count": null,
   "metadata": {},
   "outputs": [],
   "source": [
    "X.shape"
   ]
  },
  {
   "cell_type": "code",
   "execution_count": null,
   "metadata": {},
   "outputs": [],
   "source": [
    "X.shape[0]"
   ]
  },
  {
   "cell_type": "code",
   "execution_count": null,
   "metadata": {},
   "outputs": [],
   "source": [
    "steps = [('scaler', StandardScaler()), ('SVM', svm.SVC(random_state=42))]\n",
    "pipeline = Pipeline(steps)\n",
    "param_grid = { \n",
    "    'SVM__C': [0.001, 0.01, 0.1, 1.0],\n",
    "    'SVM__gamma': [0, 0.001, 0.01, 0.1, 1],\n",
    "    'SVM__kernel': ['linear', 'rbf', 'sigmoid']\n",
    "}\n",
    "gridsearch = GridSearchCV(pipeline, param_grid, verbose=1).fit(X_train, y_train)\n",
    "gridsearch.best_params_"
   ]
  },
  {
   "cell_type": "markdown",
   "metadata": {},
   "source": [
    "#### LINEAR"
   ]
  },
  {
   "cell_type": "code",
   "execution_count": null,
   "metadata": {},
   "outputs": [],
   "source": [
    "steps = [('scaler', StandardScaler()), ('SVM', svm.SVC(random_state=42, C=1, kernel='rbf', gamma=0.1))]\n",
    "pipeline = Pipeline(steps)\n",
    "cv_results = cross_validate(\n",
    "    pipeline, X, y, cv=5, return_train_score=True,\n",
    "    scoring=['accuracy', 'f1', 'precision', 'recall', 'roc_auc']\n",
    ")\n",
    "print('acurácia - média: ' + str(cv_results['test_accuracy'].mean()))\n",
    "print('acurácia - desvio padrão:: ' + str(statistics.stdev(cv_results['test_accuracy'])))\n",
    "print('')\n",
    "print('precisão - média: ' + str(cv_results['train_precision'].mean()))\n",
    "print('precisão - desvio padrão:: ' + str(statistics.stdev(cv_results['test_precision'])))\n",
    "print('')\n",
    "print('recall - média: ' + str(cv_results['train_recall'].mean()))\n",
    "print('recall - desvio padrão:: ' + str(statistics.stdev(cv_results['test_recall'])))\n",
    "print('')\n",
    "print('f1-score - média: ' + str(cv_results['train_f1'].mean()))\n",
    "print('f1-score - desvio padrão:: ' + str(statistics.stdev(cv_results['test_f1'])))\n",
    "print('')\n",
    "print('roc_auc - média: ' + str(cv_results['train_roc_auc'].mean()))\n",
    "print('roc_auc - desvio padrão:: ' + str(statistics.stdev(cv_results['test_roc_auc'])))"
   ]
  },
  {
   "cell_type": "markdown",
   "metadata": {},
   "source": [
    "### KNN"
   ]
  },
  {
   "cell_type": "code",
   "execution_count": null,
   "metadata": {},
   "outputs": [],
   "source": [
    "steps = [('scaler', StandardScaler()), ('KNN', KNeighborsClassifier())]\n",
    "pipeline = Pipeline(steps)\n",
    "param_grid = { \n",
    "    'KNN__n_neighbors': np.arange(3, 10),\n",
    "    'KNN__weights': ['uniform', 'distance'],\n",
    "    'KNN__algorithm' : ['ball_tree', 'kd_tree', 'brute', 'auto']\n",
    "}\n",
    "gridsearch = GridSearchCV(pipeline, param_grid, verbose=1).fit(X_train, y_train)\n",
    "gridsearch.best_params_"
   ]
  },
  {
   "cell_type": "code",
   "execution_count": null,
   "metadata": {},
   "outputs": [],
   "source": [
    "steps = [('scaler', StandardScaler()), ('KNN', KNeighborsClassifier(n_neighbors=3, algorithm='ball_tree', weights='distance'))]\n",
    "knn_clf = Pipeline(steps)\n",
    "knn_clf.fit(X_train, y_train)\n",
    "y_pred = knn_clf.predict(X_test)\n",
    "print('acurácia: ' + str(metrics.accuracy_score(y_test, y_pred)))\n",
    "print('precisão: ' + str(metrics.precision_score(y_test, y_pred)))\n",
    "print('recall: ' + str(metrics.recall_score(y_test, y_pred)))\n",
    "print('f1-score: ' + str(metrics.f1_score(y_test, y_pred)))"
   ]
  },
  {
   "cell_type": "code",
   "execution_count": null,
   "metadata": {},
   "outputs": [],
   "source": [
    "steps = [('scaler', StandardScaler()),\n",
    "         ('KNN', KNeighborsClassifier(n_neighbors=3, algorithm='ball_tree', weights='distance'))]\n",
    "pipeline = Pipeline(steps)\n",
    "cv_results = cross_validate(\n",
    "    pipeline, X, y, cv=5, return_train_score=True,\n",
    "    scoring=['accuracy', 'f1', 'precision', 'recall', 'roc_auc']\n",
    ")\n",
    "print('acurácia - média: ' + str(cv_results['test_accuracy'].mean()))\n",
    "print('acurácia - desvio padrão:: ' + str(statistics.stdev(cv_results['test_accuracy'])))\n",
    "print('')\n",
    "print('precisão - média: ' + str(cv_results['train_precision'].mean()))\n",
    "print('precisão - desvio padrão:: ' + str(statistics.stdev(cv_results['test_precision'])))\n",
    "print('')\n",
    "print('recall - média: ' + str(cv_results['train_recall'].mean()))\n",
    "print('recall - desvio padrão:: ' + str(statistics.stdev(cv_results['test_recall'])))\n",
    "print('')\n",
    "print('f1-score - média: ' + str(cv_results['train_f1'].mean()))\n",
    "print('f1-score - desvio padrão:: ' + str(statistics.stdev(cv_results['test_f1'])))\n",
    "print('')\n",
    "print('roc_auc - média: ' + str(cv_results['train_roc_auc'].mean()))\n",
    "print('roc_auc - desvio padrão:: ' + str(statistics.stdev(cv_results['test_roc_auc'])))"
   ]
  },
  {
   "cell_type": "markdown",
   "metadata": {},
   "source": [
    "### Random Forest"
   ]
  },
  {
   "cell_type": "code",
   "execution_count": null,
   "metadata": {},
   "outputs": [],
   "source": [
    "steps = [('scaler', StandardScaler()), ('rf', RandomForestClassifier(random_state=42))]\n",
    "pipeline = Pipeline(steps)\n",
    "param_grid = { \n",
    "    'rf__n_estimators': np.arange(10, 100),\n",
    "    'rf__max_features': ['auto', 'sqrt', 'log2'],\n",
    "    'rf__max_depth' : np.arange(5, 10),\n",
    "    'rf__criterion' :['gini', 'entropy']\n",
    "}\n",
    "gridsearch = GridSearchCV(pipeline, param_grid, verbose=1).fit(X_train, y_train)\n",
    "gridsearch.best_params_"
   ]
  },
  {
   "cell_type": "code",
   "execution_count": null,
   "metadata": {},
   "outputs": [],
   "source": [
    "pipeline.get_params().keys()"
   ]
  },
  {
   "cell_type": "code",
   "execution_count": null,
   "metadata": {},
   "outputs": [],
   "source": [
    "steps = [('scaler', StandardScaler()),\n",
    "         ('RF', RandomForestClassifier(criterion='gini', max_depth=5, max_features=1, n_estimators=13, random_state=42))]\n",
    "pipeline = Pipeline(steps)\n",
    "cv_results = cross_validate(\n",
    "    pipeline, X, y, cv=5, return_train_score=True,\n",
    "    scoring=['accuracy', 'f1', 'precision', 'recall', 'roc_auc']\n",
    ")\n",
    "print('acurácia - média: ' + str(cv_results['test_accuracy'].mean()))\n",
    "print('acurácia - desvio padrão:: ' + str(statistics.stdev(cv_results['test_accuracy'])))\n",
    "print('')\n",
    "print('precisão - média: ' + str(cv_results['train_precision'].mean()))\n",
    "print('precisão - desvio padrão:: ' + str(statistics.stdev(cv_results['test_precision'])))\n",
    "print('')\n",
    "print('recall - média: ' + str(cv_results['train_recall'].mean()))\n",
    "print('recall - desvio padrão:: ' + str(statistics.stdev(cv_results['test_recall'])))\n",
    "print('')\n",
    "print('f1-score - média: ' + str(cv_results['train_f1'].mean()))\n",
    "print('f1-score - desvio padrão:: ' + str(statistics.stdev(cv_results['test_f1'])))\n",
    "print('')\n",
    "print('roc_auc - média: ' + str(cv_results['train_roc_auc'].mean()))\n",
    "print('roc_auc - desvio padrão:: ' + str(statistics.stdev(cv_results['test_roc_auc'])))"
   ]
  }
 ],
 "metadata": {
  "kernelspec": {
   "display_name": "Python 3",
   "language": "python",
   "name": "python3"
  },
  "language_info": {
   "codemirror_mode": {
    "name": "ipython",
    "version": 3
   },
   "file_extension": ".py",
   "mimetype": "text/x-python",
   "name": "python",
   "nbconvert_exporter": "python",
   "pygments_lexer": "ipython3",
   "version": "3.6.5"
  }
 },
 "nbformat": 4,
 "nbformat_minor": 2
}
