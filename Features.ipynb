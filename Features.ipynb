{
 "cells": [
  {
   "cell_type": "code",
   "execution_count": null,
   "metadata": {},
   "outputs": [],
   "source": [
    "import pandas as pd\n",
    "import numpy as np\n",
    "from sklearn import svm\n",
    "from sklearn.neighbors import KNeighborsClassifier\n",
    "from sklearn import metrics\n",
    "import datetime as dt\n",
    "import statistics as st\n",
    "import time as timeee\n",
    "import statistics"
   ]
  },
  {
   "cell_type": "code",
   "execution_count": null,
   "metadata": {},
   "outputs": [],
   "source": [
    "depression_words = ['depressao', 'depressão', 'depressiva', 'depressivo',\n",
    "    'deprimido', 'deprimida', 'suicídio', 'suicidio', 'suicidar',\n",
    "    'triste', 'tristeza', 'infeliz', 'ansiedade', 'ansioso', \n",
    "    'ansiosa', 'morte', 'mortes','morrer', 'chorar', 'choro', 'chorando',\n",
    "    'sozinha', 'sozinho', 'estresse', 'estressado', 'estressada', \n",
    "    'dor', 'sofrer', 'sofrimento', 'agonia', 'desânimo', 'desanimo',\n",
    "    'desanimada', 'desanimado', 'angustia', 'angústia', 'angustiado',\n",
    "    'angustiada', 'mágoa', 'magoa', 'magoada', 'magoado', 'matar',\n",
    "    'ódio', 'odeio', 'odiar', 'mal']\n",
    "\n",
    "df_tweets_depression = pd.read_csv('clean_depression_tweets.csv')\n",
    "df_users = pd.read_csv('all_users.csv')\n",
    "\n",
    "df_tweets_depression['user_id'] = df_tweets_depression.user_id.astype(int).astype(str)\n",
    "df_tweets_depression['id'] = df_tweets_depression.id.astype(int).astype(str)"
   ]
  },
  {
   "cell_type": "code",
   "execution_count": null,
   "metadata": {},
   "outputs": [],
   "source": [
    "df_tweets_depression.drop(['user_screen_name', 'language'], axis=1).sample(5)"
   ]
  },
  {
   "cell_type": "code",
   "execution_count": null,
   "metadata": {},
   "outputs": [],
   "source": [
    "df_tweets_depression.head()"
   ]
  },
  {
   "cell_type": "code",
   "execution_count": null,
   "metadata": {},
   "outputs": [],
   "source": [
    "df_tweets_depression['date'] = pd.to_datetime(df_tweets_depression.date,infer_datetime_format=True)\n",
    "df_tweets_depression['time'] = df_tweets_depression.date.dt.time\n",
    "df_tweets_depression['hour'] = df_tweets_depression.date.dt.hour.astype(int)\n",
    "# df_tweets_depression['secs'] = df_tweets_depression.time().second"
   ]
  },
  {
   "cell_type": "code",
   "execution_count": null,
   "metadata": {},
   "outputs": [],
   "source": [
    "df_tweets_depression.dtypes"
   ]
  },
  {
   "cell_type": "code",
   "execution_count": null,
   "metadata": {},
   "outputs": [],
   "source": [
    "df_tweets_depression.head()"
   ]
  },
  {
   "cell_type": "markdown",
   "metadata": {},
   "source": [
    "### Quantidade de tweets que possuem \"palavras depressivas\""
   ]
  },
  {
   "cell_type": "code",
   "execution_count": null,
   "metadata": {},
   "outputs": [],
   "source": [
    "def is_depressive_tweet(tweet):\n",
    "    for word in depression_words:\n",
    "        if word in str(tweet):\n",
    "            return True\n",
    "    return False"
   ]
  },
  {
   "cell_type": "code",
   "execution_count": null,
   "metadata": {},
   "outputs": [],
   "source": [
    "def count_depressive_tweets(tweets):\n",
    "    tweets_with_depression_words = 0\n",
    "    for tweet in tweets:\n",
    "        if is_depressive_tweet(tweet):\n",
    "            tweets_with_depression_words = tweets_with_depression_words + 1\n",
    "    return tweets_with_depression_words\n",
    "    "
   ]
  },
  {
   "cell_type": "code",
   "execution_count": null,
   "metadata": {},
   "outputs": [],
   "source": [
    "def count_words(tweets):\n",
    "    count = 0\n",
    "    for tweet in tweets:\n",
    "        for word in str(tweet).split():\n",
    "            count = count + 1\n",
    "    return count"
   ]
  },
  {
   "cell_type": "code",
   "execution_count": null,
   "metadata": {},
   "outputs": [],
   "source": [
    "def count_depressive_words(tweets):\n",
    "    count = 0\n",
    "    for tweet in tweets:\n",
    "        for word in str(tweet).split():\n",
    "            if word in depression_words:\n",
    "                count = count + 1\n",
    "    return count"
   ]
  },
  {
   "cell_type": "code",
   "execution_count": null,
   "metadata": {},
   "outputs": [],
   "source": [
    "def count_true(bool_feats):\n",
    "    count = 0\n",
    "    for bool_feat in bool_feats:\n",
    "        if bool_feat:\n",
    "            count = count + 1\n",
    "    return count"
   ]
  },
  {
   "cell_type": "code",
   "execution_count": null,
   "metadata": {
    "scrolled": true
   },
   "outputs": [],
   "source": [
    "user_names = df_tweets_depression.user_screen_name.unique().tolist()\n",
    "users = []\n",
    "user = {}\n",
    "for name in user_names:\n",
    "    df_user_tweets = df_tweets_depression[df_tweets_depression.user_screen_name == name]\n",
    "    tweets = df_user_tweets.text\n",
    "    tweets_with_depression_words = count_depressive_tweets(tweets)\n",
    "    words_count = count_words(tweets)\n",
    "    depressive_words_count = count_depressive_words(tweets)\n",
    "    has_depression = df_user_tweets.depression.unique().tolist()\n",
    "    dates = df_user_tweets.date.tolist()\n",
    "    rts = df_user_tweets.is_rt\n",
    "    rts_count = count_true(rts)\n",
    "    mentions = df_user_tweets.is_mention\n",
    "    mentions_count = count_true(mentions)\n",
    "    user['screen_name'] = name\n",
    "    user['tweets_count'] = len(df_user_tweets)\n",
    "    user['depression_tweets_count'] = tweets_with_depression_words\n",
    "    user['words_count'] = words_count\n",
    "    user['words_mean'] = user['words_count'] / user['tweets_count']\n",
    "    user['depressive_words_count'] = depressive_words_count\n",
    "    user['depression'] = has_depression[0]\n",
    "    user['rts_count'] = rts_count\n",
    "    user['mentions_count'] = mentions_count\n",
    "    user['hour_mode'] = df_user_tweets.hour.mode().values[0]\n",
    "    users.append(user.copy())"
   ]
  },
  {
   "cell_type": "code",
   "execution_count": null,
   "metadata": {
    "scrolled": true
   },
   "outputs": [],
   "source": [
    "df_users_metrics = pd.DataFrame(data=users)\n",
    "df_users_metrics['depression_tweets_proportion'] = df_users_metrics.depression_tweets_count / df_users_metrics.tweets_count\n",
    "df_users_metrics['depression_words_proportion'] = df_users_metrics.depressive_words_count / df_users_metrics.words_count"
   ]
  },
  {
   "cell_type": "code",
   "execution_count": null,
   "metadata": {},
   "outputs": [],
   "source": [
    "df_users = df_users.drop_duplicates(['screen_name'])"
   ]
  },
  {
   "cell_type": "code",
   "execution_count": null,
   "metadata": {},
   "outputs": [],
   "source": [
    "df_users_metrics = df_users_metrics.merge(df_users, on=['screen_name', 'depression'])"
   ]
  },
  {
   "cell_type": "code",
   "execution_count": null,
   "metadata": {},
   "outputs": [],
   "source": [
    "df_users_metrics.head()"
   ]
  },
  {
   "cell_type": "code",
   "execution_count": null,
   "metadata": {},
   "outputs": [],
   "source": [
    "df_users_metrics.columns"
   ]
  },
  {
   "cell_type": "code",
   "execution_count": null,
   "metadata": {},
   "outputs": [],
   "source": [
    "df_users_metrics.drop(['depression', 'screen_name', 'id', 'name', 'location', 'created_at']\n",
    "                          , axis=1).columns"
   ]
  },
  {
   "cell_type": "code",
   "execution_count": null,
   "metadata": {},
   "outputs": [],
   "source": [
    "# df_users_metrics.to_csv('df_users_metrics.csv', index=False)"
   ]
  }
 ],
 "metadata": {
  "kernelspec": {
   "display_name": "Python 3",
   "language": "python",
   "name": "python3"
  },
  "language_info": {
   "codemirror_mode": {
    "name": "ipython",
    "version": 3
   },
   "file_extension": ".py",
   "mimetype": "text/x-python",
   "name": "python",
   "nbconvert_exporter": "python",
   "pygments_lexer": "ipython3",
   "version": "3.6.5"
  }
 },
 "nbformat": 4,
 "nbformat_minor": 2
}
