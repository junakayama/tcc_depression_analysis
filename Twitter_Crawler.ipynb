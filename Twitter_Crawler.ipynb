{
 "cells": [
  {
   "cell_type": "code",
   "execution_count": null,
   "metadata": {},
   "outputs": [],
   "source": [
    "from textblob import TextBlob\n",
    "import tweepy\n",
    "import pandas as pd\n",
    "import json\n",
    "import re\n",
    "import users_twitter\n",
    "from credentials import twitter_credentials"
   ]
  },
  {
   "cell_type": "code",
   "execution_count": null,
   "metadata": {},
   "outputs": [],
   "source": [
    "auth = tweepy.OAuthHandler(twitter_credentials.api_key, twitter_credentials.api_secret_key)\n",
    "auth.set_access_token(twitter_credentials.access_token, twitter_credentials.access_token_secret)\n",
    "api = tweepy.API(auth)\n",
    "df_depression_users = pd.DataFrame()\n",
    "df_non_depression_users = pd.DataFrame()\n",
    "df_tweets = pd.DataFrame()"
   ]
  },
  {
   "cell_type": "code",
   "execution_count": null,
   "metadata": {},
   "outputs": [],
   "source": [
    "def extract_tweets(user_timeline, user_api):\n",
    "    tweets = []\n",
    "    global df_tweets\n",
    "    for i in user_timeline.items():\n",
    "        tweet_id = i.id_str\n",
    "        tweet_text = i.text\n",
    "        tweet_rts = i.retweet_count\n",
    "        tweet_favs = i.favorite_count\n",
    "        tweet_date = i.created_at\n",
    "        tweet_lang = ''\n",
    "        tweet = {\n",
    "            'id': tweet_id,\n",
    "            'text': tweet_text,\n",
    "            'number_of_retweets': tweet_rts,\n",
    "            'number_of_favorites': tweet_favs,\n",
    "            'date': tweet_date,\n",
    "            'language': tweet_lang,\n",
    "            'user_id': user_api.id_str,\n",
    "            'user_screen_name': user_api.screen_name\n",
    "        }\n",
    "        tweets.append(tweet)\n",
    "    df_tweets = df_tweets.append(tweets, ignore_index=True)"
   ]
  },
  {
   "cell_type": "code",
   "execution_count": null,
   "metadata": {},
   "outputs": [],
   "source": [
    "def extract_depression_user(depression_users):\n",
    "    users = []\n",
    "\n",
    "    for u in depression_users:\n",
    "        user = dict()\n",
    "        screen_name = u\n",
    "        user_api = api.get_user(screen_name=screen_name)\n",
    "        user = {\n",
    "            'id': user_api.id_str,\n",
    "            'name': user_api.name,\n",
    "            'screen_name': user_api.screen_name,\n",
    "            'location': user_api.location,\n",
    "            'number_of_followers': user_api.followers_count,\n",
    "            'number_of_friends': user_api.friends_count,\n",
    "            'number_of_tweets': user_api.statuses_count,\n",
    "            'created_at': user_api.created_at\n",
    "        }\n",
    "        users.append(user)\n",
    "    return users"
   ]
  },
  {
   "cell_type": "code",
   "execution_count": null,
   "metadata": {
    "scrolled": false
   },
   "outputs": [],
   "source": [
    "def extract_data(depression_user):\n",
    "    user = extract_depression_user(depression_user)\n",
    "    return user"
   ]
  },
  {
   "cell_type": "code",
   "execution_count": null,
   "metadata": {
    "scrolled": false
   },
   "outputs": [],
   "source": [
    "depression_users = users_twitter.depression_users\n",
    "depression_data = extract_data(depression_users)"
   ]
  },
  {
   "cell_type": "code",
   "execution_count": null,
   "metadata": {},
   "outputs": [],
   "source": [
    "non_depression_users = users_twitter.non_depression_users\n",
    "non_depression_data = extract_data(non_depression_users)"
   ]
  },
  {
   "cell_type": "code",
   "execution_count": null,
   "metadata": {},
   "outputs": [],
   "source": [
    "df_depression_users = df_depression_users.append(pd.DataFrame(depression_data), sort=False)\n",
    "df_non_depression_users = df_non_depression_users.append(pd.DataFrame(non_depression_data), sort=False)"
   ]
  },
  {
   "cell_type": "code",
   "execution_count": null,
   "metadata": {},
   "outputs": [],
   "source": [
    "df_depression_users['depression'] = True\n",
    "df_non_depression_users['depression'] = False"
   ]
  },
  {
   "cell_type": "code",
   "execution_count": null,
   "metadata": {},
   "outputs": [],
   "source": [
    "len(df_depression_users)"
   ]
  },
  {
   "cell_type": "code",
   "execution_count": null,
   "metadata": {},
   "outputs": [],
   "source": [
    "len(df_non_depression_users)"
   ]
  },
  {
   "cell_type": "code",
   "execution_count": null,
   "metadata": {},
   "outputs": [],
   "source": [
    "df_all_users = (\n",
    "    df_depression_users\n",
    "    .append(df_non_depression_users)\n",
    ")"
   ]
  },
  {
   "cell_type": "code",
   "execution_count": null,
   "metadata": {},
   "outputs": [],
   "source": [
    "df_all_users.head()"
   ]
  },
  {
   "cell_type": "code",
   "execution_count": null,
   "metadata": {},
   "outputs": [],
   "source": [
    "# df_all_users.to_csv('all_users.csv', index=False)"
   ]
  }
 ],
 "metadata": {
  "kernelspec": {
   "display_name": "Python 3",
   "language": "python",
   "name": "python3"
  },
  "language_info": {
   "codemirror_mode": {
    "name": "ipython",
    "version": 3
   },
   "file_extension": ".py",
   "mimetype": "text/x-python",
   "name": "python",
   "nbconvert_exporter": "python",
   "pygments_lexer": "ipython3",
   "version": "3.6.5"
  }
 },
 "nbformat": 4,
 "nbformat_minor": 2
}
